{
 "cells": [
  {
   "cell_type": "code",
   "execution_count": 1,
   "id": "8bf7f8d2-acd9-4d34-ad57-ada2d2e2aa41",
   "metadata": {},
   "outputs": [
    {
     "data": {
      "text/plain": [
       "'c:\\\\Python311\\\\python.exe'"
      ]
     },
     "execution_count": 1,
     "metadata": {},
     "output_type": "execute_result"
    }
   ],
   "source": [
    "import sys; sys.executable"
   ]
  },
  {
   "cell_type": "code",
   "execution_count": 2,
   "id": "62d1cb93-b1c4-46f2-80bc-f6e0126d83fb",
   "metadata": {},
   "outputs": [],
   "source": [
    "import openai"
   ]
  },
  {
   "cell_type": "code",
   "execution_count": 3,
   "id": "4b5484a7-7726-4c07-9ffb-be62a5c71cca",
   "metadata": {},
   "outputs": [],
   "source": [
    "# Replace <YOUR-API-KEY> with your actual API key\n",
    "openai.api_key = \"<YOUR-API-KEY>\""
   ]
  },
  {
   "cell_type": "code",
   "execution_count": 4,
   "id": "d456a48c-de79-467a-9f2b-3c18e2f3a24a",
   "metadata": {},
   "outputs": [],
   "source": [
    "# Use the ChatGPT model to generate text\n",
    "\n",
    "completion = openai.ChatCompletion.create(\n",
    "  model=\"gpt-3.5-turbo\",\n",
    "  messages=[\n",
    "        {\"role\": \"system\", \"content\": \"You are a helpful assistant.\"},\n",
    "        {\"role\": \"user\", \"content\": \"What are you?\"},\n",
    "        {\"role\": \"assistant\", \"content\": \"I am a helpful and informative assistant.\"},\n",
    "        {\"role\": \"user\", \"content\": \"How many people are there on Earth? Subdivide by top 5 countries.\"}\n",
    "    ]\n",
    ")"
   ]
  },
  {
   "cell_type": "code",
   "execution_count": 5,
   "id": "0170d2fc",
   "metadata": {},
   "outputs": [
    {
     "name": "stdout",
     "output_type": "stream",
     "text": [
      "As of July 2021, the estimated world population is around 7.9 billion people.\n",
      "\n",
      "Here are the top 5 countries with the highest population as of 2021:\n",
      "\n",
      "1. China - 1.4 billion\n",
      "2. India - 1.3 billion\n",
      "3. United States - 332 million\n",
      "4. Indonesia - 275 million\n",
      "5. Pakistan - 224 million\n"
     ]
    }
   ],
   "source": [
    "# Assuming the data object is stored in a variable called \"completion\"\n",
    "message_content = completion['choices'][0]['message']['content']\n",
    "\n",
    "# Print the message\n",
    "print(message_content)"
   ]
  }
 ],
 "metadata": {
  "kernelspec": {
   "display_name": "Python 3",
   "language": "python",
   "name": "python3"
  },
  "language_info": {
   "codemirror_mode": {
    "name": "ipython",
    "version": 3
   },
   "file_extension": ".py",
   "mimetype": "text/x-python",
   "name": "python",
   "nbconvert_exporter": "python",
   "pygments_lexer": "ipython3",
   "version": "3.11.0"
  }
 },
 "nbformat": 4,
 "nbformat_minor": 5
}
