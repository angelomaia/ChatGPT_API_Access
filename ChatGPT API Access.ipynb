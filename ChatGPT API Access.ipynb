{
 "cells": [
  {
   "cell_type": "code",
   "execution_count": null,
   "id": "8bf7f8d2-acd9-4d34-ad57-ada2d2e2aa41",
   "metadata": {},
   "outputs": [],
   "source": [
    "import sys; sys.executable"
   ]
  },
  {
   "cell_type": "code",
   "execution_count": 2,
   "id": "62d1cb93-b1c4-46f2-80bc-f6e0126d83fb",
   "metadata": {},
   "outputs": [],
   "source": [
    "import openai"
   ]
  },
  {
   "cell_type": "code",
   "execution_count": 5,
   "id": "4b5484a7-7726-4c07-9ffb-be62a5c71cca",
   "metadata": {},
   "outputs": [],
   "source": [
    "# Replace <YOUR-API-KEY> with your actual API key\n",
    "openai.api_key = \"<YOUR-API-KEY>\""
   ]
  },
  {
   "cell_type": "code",
   "execution_count": null,
   "id": "d456a48c-de79-467a-9f2b-3c18e2f3a24a",
   "metadata": {},
   "outputs": [],
   "source": [
    "# Use the ChatGPT model to generate text\n",
    "model_engine = \"text-davinci-002\"\n",
    "prompt = \"Escreva aqui seu prompt\"\n",
    "completion = openai.Completion.create(engine=model_engine,prompt=prompt, max_tokens=2048, n=4,stop=None,temperature=0.0)\n",
    "message = completion.choices[0].text\n",
    "print(message)"
   ]
  }
 ],
 "metadata": {
  "kernelspec": {
   "display_name": "python311",
   "language": "python",
   "name": "python311"
  },
  "language_info": {
   "codemirror_mode": {
    "name": "ipython",
    "version": 3
   },
   "file_extension": ".py",
   "mimetype": "text/x-python",
   "name": "python",
   "nbconvert_exporter": "python",
   "pygments_lexer": "ipython3",
   "version": "3.11.0"
  }
 },
 "nbformat": 4,
 "nbformat_minor": 5
}
