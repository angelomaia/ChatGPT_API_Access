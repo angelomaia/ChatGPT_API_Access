{
 "cells": [
  {
   "cell_type": "code",
   "execution_count": 1,
   "id": "8bf7f8d2-acd9-4d34-ad57-ada2d2e2aa41",
   "metadata": {},
   "outputs": [
    {
     "data": {
      "text/plain": [
       "'C:\\\\Python311\\\\python.exe'"
      ]
     },
     "execution_count": 1,
     "metadata": {},
     "output_type": "execute_result"
    }
   ],
   "source": [
    "import sys; sys.executable"
   ]
  },
  {
   "cell_type": "code",
   "execution_count": 2,
   "id": "62d1cb93-b1c4-46f2-80bc-f6e0126d83fb",
   "metadata": {},
   "outputs": [],
   "source": [
    "import openai"
   ]
  },
  {
   "cell_type": "code",
   "execution_count": 5,
   "id": "4b5484a7-7726-4c07-9ffb-be62a5c71cca",
   "metadata": {},
   "outputs": [],
   "source": [
    "# Replace <YOUR-API-KEY> with your actual API key\n",
    "openai.api_key = \"<YOUR-API-KEY>\""
   ]
  },
  {
   "cell_type": "code",
   "execution_count": 18,
   "id": "d456a48c-de79-467a-9f2b-3c18e2f3a24a",
   "metadata": {},
   "outputs": [
    {
     "name": "stdout",
     "output_type": "stream",
     "text": [
      "\n",
      "\n",
      "A melhor forma de estudar sobre ciência do solo é seguir as seguintes prioridades:\n",
      "\n",
      "1. Entenda o que é ciência do solo e sua importância.\n",
      "2. Aprenda os fundamentos da ciência do solo, incluindo a composição do solo, sua estrutura e propriedades físicas e químicas.\n",
      "3. Saiba como o solo é formado e as principais formas de erosão e degradação do solo.\n",
      "4. Conheça as principais plantas que crescem em solos diferentes e os fatores que afetam o crescimento das plantas no solo.\n",
      "5. Entenda os principais problemas relacionados ao solo, como a contaminação do solo e a erosão do solo.\n",
      "6. Aprenda as principais técnicas de conservação do solo, incluindo a cobertura do solo, a irrigação e o controle da erosão.\n"
     ]
    }
   ],
   "source": [
    "# Use the ChatGPT model to generate text\n",
    "model_engine = \"text-davinci-002\"\n",
    "prompt = \"Escreva aqui seu prompt\"\n",
    "completion = openai.Completion.create(engine=model_engine,prompt=prompt, max_tokens=2048, n=4,stop=None,temperature=0.0)\n",
    "message = completion.choices[0].text\n",
    "print(message)"
   ]
  }
 ],
 "metadata": {
  "kernelspec": {
   "display_name": "python311",
   "language": "python",
   "name": "python311"
  },
  "language_info": {
   "codemirror_mode": {
    "name": "ipython",
    "version": 3
   },
   "file_extension": ".py",
   "mimetype": "text/x-python",
   "name": "python",
   "nbconvert_exporter": "python",
   "pygments_lexer": "ipython3",
   "version": "3.11.0"
  }
 },
 "nbformat": 4,
 "nbformat_minor": 5
}
