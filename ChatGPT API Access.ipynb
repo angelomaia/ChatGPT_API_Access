{
 "cells": [
  {
   "cell_type": "code",
   "execution_count": 1,
   "id": "8bf7f8d2-acd9-4d34-ad57-ada2d2e2aa41",
   "metadata": {},
   "outputs": [
    {
     "data": {
      "text/plain": [
       "'C:\\\\Python311\\\\python.exe'"
      ]
     },
     "execution_count": 1,
     "metadata": {},
     "output_type": "execute_result"
    }
   ],
   "source": [
    "import sys; sys.executable"
   ]
  },
  {
   "cell_type": "code",
   "execution_count": 21,
   "id": "4b5484a7-7726-4c07-9ffb-be62a5c71cca",
   "metadata": {},
   "outputs": [],
   "source": [
    "import openai\n",
    "# Replace <YOUR-API-KEY> with your actual API key\n",
    "openai.api_key = \"<YOUR-API-KEY>\""
   ]
  },
  {
   "cell_type": "code",
   "execution_count": 24,
   "id": "46c64c60-0750-4d3f-9113-040a4c0918f9",
   "metadata": {},
   "outputs": [
    {
     "name": "stdout",
     "output_type": "stream",
     "text": [
      "1) Pesquisas recentes indicam que o derretimento de geleiras no Himalaia não apenas afeta o fornecimento de água para milhões de pessoas, mas também causa a deformação e mudança da crosta terrestre. Em um estudo publicado no periódico Science Advances, pesquisadores utilizaram dados de satélite para mapear mudanças na crosta terrestre na região nas últimas duas décadas.\n",
      "\n",
      "2) Estudos recentes apontam que o derretimento das geleiras no Himalaia está impactando não somente o abastecimento de água de milhões de pessoas, mas também está causando a deformação e o deslocamento da crosta terrestre. Em um estudo publicado na revista Science Advances, pesquisadores utilizaram dados de satélite para monitorar as mudanças ocorridas na crosta terrestre na região nas últimas duas décadas.\n",
      "\n",
      "3) Investigação recente tem demonstrado que o derretimento das geleiras no Himalaia está afetando não apenas o fornecimento de água para milhões de pessoas, mas também está causando deformação e deslocamento na crosta terrestre. Em estudo publicado na revista Science Advances, os pesquisadores fizeram uso de dados de satélite para rastrear mudanças na crosta terrestre na região ao longo dos últimos vinte anos.\n"
     ]
    }
   ],
   "source": [
    "# Using the ChatGPT (gpt 3.5) model to generate text\n",
    "\n",
    "completion = openai.ChatCompletion.create(\n",
    "  model=\"gpt-3.5-turbo\",\n",
    "  messages=[\n",
    "        {\"role\": \"system\", \"content\": \"You are a technical translator from English to Brazilian Portuguese, specialized in the following field: Geosciences.\"},\n",
    "        {\"role\": \"user\", \"content\": \"\"\"Translate the following text in 3 variations:\n",
    "        \n",
    "Recent research has shown that the melting of glaciers in the Himalayas is not only affecting the water supply to millions of people, but is also causing the Earth's crust to deform and shift. In a study published in the journal Science Advances, researchers used satellite data to track changes in the Earth's crust in the region over the past two decades.\n",
    "\n",
    "\"\"\"},\n",
    "        ]\n",
    ")\n",
    "\n",
    "# Print the response\n",
    "message_content = completion['choices'][0]['message']['content']\n",
    "print(message_content)"
   ]
  },
  {
   "cell_type": "code",
   "execution_count": 19,
   "id": "f51945a8-f762-4674-8578-43b9115c5c67",
   "metadata": {},
   "outputs": [],
   "source": [
    "# Retrieving list of all models available in openAI API\n",
    "\n",
    "import requests\n",
    "\n",
    "headers = {\n",
    "    'Content-Type': 'application/json',\n",
    "    'Authorization': 'Bearer <YOUR-API-KEY>'\n",
    "}\n",
    "response = requests.get('https://api.openai.com/v1/models', headers=headers)\n",
    "#print(response.text)\n"
   ]
  }
 ],
 "metadata": {
  "kernelspec": {
   "display_name": "python311",
   "language": "python",
   "name": "python311"
  },
  "language_info": {
   "codemirror_mode": {
    "name": "ipython",
    "version": 3
   },
   "file_extension": ".py",
   "mimetype": "text/x-python",
   "name": "python",
   "nbconvert_exporter": "python",
   "pygments_lexer": "ipython3",
   "version": "3.11.0"
  }
 },
 "nbformat": 4,
 "nbformat_minor": 5
}
